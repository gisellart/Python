{
  "nbformat": 4,
  "nbformat_minor": 0,
  "metadata": {
    "colab": {
      "name": "Untitled3.ipynb",
      "provenance": [],
      "authorship_tag": "ABX9TyNbsS8dxdKzxVCyitU3aGY+",
      "include_colab_link": true
    },
    "kernelspec": {
      "name": "python3",
      "display_name": "Python 3"
    }
  },
  "cells": [
    {
      "cell_type": "markdown",
      "metadata": {
        "id": "view-in-github",
        "colab_type": "text"
      },
      "source": [
        "<a href=\"https://colab.research.google.com/github/gisellart/Python/blob/main/Untitled3.ipynb\" target=\"_parent\"><img src=\"https://colab.research.google.com/assets/colab-badge.svg\" alt=\"Open In Colab\"/></a>"
      ]
    },
    {
      "cell_type": "code",
      "metadata": {
        "colab": {
          "base_uri": "https://localhost:8080/"
        },
        "id": "Z6Rw1lEUnQ8I",
        "outputId": "39ae360e-37a2-4d62-9155-d76fc0685951"
      },
      "source": [
        "# Indices en listas\r\n",
        "A = [89,2,3,4,5]\r\n",
        "print(A)\r\n",
        "A[0]"
      ],
      "execution_count": 4,
      "outputs": [
        {
          "output_type": "stream",
          "text": [
            "[89, 2, 3, 4, 5]\n"
          ],
          "name": "stdout"
        },
        {
          "output_type": "execute_result",
          "data": {
            "text/plain": [
              "89"
            ]
          },
          "metadata": {
            "tags": []
          },
          "execution_count": 4
        }
      ]
    },
    {
      "cell_type": "code",
      "metadata": {
        "colab": {
          "base_uri": "https://localhost:8080/"
        },
        "id": "NSTGInPP0Ww6",
        "outputId": "898e3811-253c-4685-d632-7d0da524379a"
      },
      "source": [
        "A = [89,2,3,4,5]\r\n",
        "\r\n",
        "A[0] = 1\r\n",
        "A\r\n",
        "A[4]= 109\r\n",
        "A"
      ],
      "execution_count": 10,
      "outputs": [
        {
          "output_type": "execute_result",
          "data": {
            "text/plain": [
              "[1, 2, 3, 4, 109]"
            ]
          },
          "metadata": {
            "tags": []
          },
          "execution_count": 10
        }
      ]
    },
    {
      "cell_type": "code",
      "metadata": {
        "colab": {
          "base_uri": "https://localhost:8080/"
        },
        "id": "m5x77GOn2dCE",
        "outputId": "c3b65e26-6e71-4613-f457-32964d641a4e"
      },
      "source": [
        "#Añadir elementos a listas\r\n",
        "B= [1,2,3]\r\n",
        "B\r\n",
        "B.append(4)\r\n",
        "B"
      ],
      "execution_count": 13,
      "outputs": [
        {
          "output_type": "execute_result",
          "data": {
            "text/plain": [
              "[1, 2, 3, 4]"
            ]
          },
          "metadata": {
            "tags": []
          },
          "execution_count": 13
        }
      ]
    },
    {
      "cell_type": "code",
      "metadata": {
        "colab": {
          "base_uri": "https://localhost:8080/"
        },
        "id": "l_JpluvS4V2B",
        "outputId": "db7404b0-9559-4aed-8cae-33806a0fcb42"
      },
      "source": [
        "c = []\r\n",
        "c\r\n",
        "c.append([1,2,3])\r\n",
        "c\r\n",
        "c.append([4,5,6])\r\n",
        "c.append([7,8,9])\r\n",
        "c"
      ],
      "execution_count": 6,
      "outputs": [
        {
          "output_type": "execute_result",
          "data": {
            "text/plain": [
              "[[1, 2, 3], [4, 5, 6], [7, 8, 9]]"
            ]
          },
          "metadata": {
            "tags": []
          },
          "execution_count": 6
        }
      ]
    },
    {
      "cell_type": "code",
      "metadata": {
        "colab": {
          "base_uri": "https://localhost:8080/"
        },
        "id": "h2_2SxlaUKYY",
        "outputId": "242a72a2-224c-4ff0-faa6-4851ce043940"
      },
      "source": [
        "import numpy as np\r\n",
        "c= np.array(c)\r\n",
        "c"
      ],
      "execution_count": 7,
      "outputs": [
        {
          "output_type": "execute_result",
          "data": {
            "text/plain": [
              "array([[1, 2, 3],\n",
              "       [4, 5, 6],\n",
              "       [7, 8, 9]])"
            ]
          },
          "metadata": {
            "tags": []
          },
          "execution_count": 7
        }
      ]
    },
    {
      "cell_type": "markdown",
      "metadata": {
        "id": "QPDZRYfjVBz1"
      },
      "source": [
        "Operaciones a listas "
      ]
    },
    {
      "cell_type": "code",
      "metadata": {
        "colab": {
          "base_uri": "https://localhost:8080/"
        },
        "id": "leJcMBYFVEqD",
        "outputId": "5fef385c-8725-420a-8850-c6fdd887b204"
      },
      "source": [
        "print(c[1][0])"
      ],
      "execution_count": 12,
      "outputs": [
        {
          "output_type": "stream",
          "text": [
            "4\n"
          ],
          "name": "stdout"
        }
      ]
    },
    {
      "cell_type": "code",
      "metadata": {
        "colab": {
          "base_uri": "https://localhost:8080/"
        },
        "id": "Muy-M-KbVuBC",
        "outputId": "d5d8afe6-5785-4bac-ea85-f0ecb006282a"
      },
      "source": [
        "D= [1,2,3,4,5,6,7,8,9,10]\r\n",
        "D\r\n",
        "Suma= sum(D)\r\n",
        "Suma\r\n",
        "Lomgitud = len(D)\r\n",
        "Lomgitud\r\n",
        "Promedio = sum(D)/len(D)\r\n",
        "Promedio\r\n",
        "import statistics as st\r\n",
        "Promedio_2= st.mean(D)\r\n",
        "Promedio_2"
      ],
      "execution_count": 17,
      "outputs": [
        {
          "output_type": "execute_result",
          "data": {
            "text/plain": [
              "5.5"
            ]
          },
          "metadata": {
            "tags": []
          },
          "execution_count": 17
        }
      ]
    },
    {
      "cell_type": "code",
      "metadata": {
        "colab": {
          "base_uri": "https://localhost:8080/"
        },
        "id": "M0vSKBC5YV9p",
        "outputId": "63bc8e43-c211-49c9-926c-f166b792ec34"
      },
      "source": [
        "#listas con stringe \r\n",
        "Strings = ['abc','def','ghi','jkl']\r\n",
        "print(Strings[3][2])\r\n",
        "Longitud = len(Strings)\r\n",
        "Longitud\r\n",
        "print(Strings[2][0:2])"
      ],
      "execution_count": 25,
      "outputs": [
        {
          "output_type": "stream",
          "text": [
            "l\n",
            "gh\n"
          ],
          "name": "stdout"
        }
      ]
    },
    {
      "cell_type": "markdown",
      "metadata": {
        "id": "EMqYzTuVc1H8"
      },
      "source": [
        "Diccionarios "
      ]
    },
    {
      "cell_type": "code",
      "metadata": {
        "colab": {
          "base_uri": "https://localhost:8080/"
        },
        "id": "xXxZ33Eoc3Fw",
        "outputId": "7ae2ab61-73ef-446e-c81c-a16fa8722ee8"
      },
      "source": [
        "Datos_alumno= {\r\n",
        "    'Nombre' : 'Tania',\r\n",
        "    'Apellido' : 'salagdo',\r\n",
        "    'Matricula' : '391906',\r\n",
        "    'Horario' : 'Matutino',\r\n",
        "    'Beca' : 'Si'\r\n",
        "\r\n",
        "}\r\n",
        "print(Datos_alumno['Matricula'])\r\n",
        "print(Datos_alumno['Apellido'])\r\n",
        "print(Datos_alumno['Beca'])\r\n",
        "\r\n",
        "Datos_alumno.update({'Materias': ['Fisica', 'Quimica', 'Programacion ']})\r\n",
        "Datos_alumno\r\n",
        "print(Datos_alumno['Materias'])\r\n",
        "print(Datos_alumno['Materias'][0:2])"
      ],
      "execution_count": 33,
      "outputs": [
        {
          "output_type": "stream",
          "text": [
            "391906\n",
            "salagdo\n",
            "Si\n",
            "['Fisica', 'Quimica', 'Programacion ']\n",
            "['Fisica', 'Quimica']\n"
          ],
          "name": "stdout"
        }
      ]
    },
    {
      "cell_type": "code",
      "metadata": {
        "id": "IoblTgEfhuMU"
      },
      "source": [
        "#Diccionario anidados \r\n"
      ],
      "execution_count": null,
      "outputs": []
    }
  ]
}