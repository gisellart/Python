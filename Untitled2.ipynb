{
  "nbformat": 4,
  "nbformat_minor": 0,
  "metadata": {
    "colab": {
      "name": "Untitled2.ipynb",
      "provenance": [],
      "authorship_tag": "ABX9TyPan3Jsrvaa0t0P1OUT5scK",
      "include_colab_link": true
    },
    "kernelspec": {
      "name": "python3",
      "display_name": "Python 3"
    }
  },
  "cells": [
    {
      "cell_type": "markdown",
      "metadata": {
        "id": "view-in-github",
        "colab_type": "text"
      },
      "source": [
        "<a href=\"https://colab.research.google.com/github/gisellart/Python/blob/main/Untitled2.ipynb\" target=\"_parent\"><img src=\"https://colab.research.google.com/assets/colab-badge.svg\" alt=\"Open In Colab\"/></a>"
      ]
    },
    {
      "cell_type": "code",
      "metadata": {
        "colab": {
          "base_uri": "https://localhost:8080/"
        },
        "id": "H7C3egeQDLGn",
        "outputId": "43275f98-98d3-4315-861b-873ee773f3a9"
      },
      "source": [
        "#Variables\r\n",
        "numero = 17\r\n",
        "decimal = 0.7\r\n",
        "texto=\"Texto\"\r\n",
        "#Debe ser capitalizada la palabra: True o False no vale si es con puras mayusculas o minusculas \r\n",
        "booleanos = True\r\n",
        "\r\n",
        "print(booleanos)\r\n",
        "print(type(booleanos))\r\n"
      ],
      "execution_count": 4,
      "outputs": [
        {
          "output_type": "stream",
          "text": [
            "True\n",
            "<class 'bool'>\n"
          ],
          "name": "stdout"
        }
      ]
    },
    {
      "cell_type": "code",
      "metadata": {
        "id": "l59VnB_duy9Z"
      },
      "source": [
        "tupla = ()\r\n",
        "lista = []\r\n",
        "set_ = {}\r\n",
        "diccionario = {2:2, 1:5}"
      ],
      "execution_count": null,
      "outputs": []
    },
    {
      "cell_type": "code",
      "metadata": {
        "colab": {
          "base_uri": "https://localhost:8080/"
        },
        "id": "XdNUKXeVwGlv",
        "outputId": "f79b05d3-7791-4fa6-8cee-178baa902f07"
      },
      "source": [
        "#Es inmutable, no puedes cambiar los valores una vez agregados \r\n",
        "tupla = (\"hola\", 2)\r\n",
        "lista = [6,7,3,1,6]\r\n",
        "#set no repite los valores\r\n",
        "set_={1,2,3,4,5,1,1}\r\n",
        "diccionario= {2:2, 1:5}\r\n",
        "\r\n",
        "print(tupla)\r\n",
        "print(type(tupla))\r\n",
        "print(lista)\r\n",
        "print(type(lista))\r\n",
        "print(set_)\r\n",
        "print(type(set_))\r\n",
        "print(diccionario)\r\n",
        "print(type(diccionario))"
      ],
      "execution_count": 5,
      "outputs": [
        {
          "output_type": "stream",
          "text": [
            "('hola', 2)\n",
            "<class 'tuple'>\n",
            "[6, 7, 3, 1, 6]\n",
            "<class 'list'>\n",
            "{1, 2, 3, 4, 5}\n",
            "<class 'set'>\n",
            "{2: 2, 1: 5}\n",
            "<class 'dict'>\n"
          ],
          "name": "stdout"
        }
      ]
    },
    {
      "cell_type": "code",
      "metadata": {
        "colab": {
          "base_uri": "https://localhost:8080/"
        },
        "id": "ac0sBUIz5KE5",
        "outputId": "44c70045-141d-41cd-975c-103616b9f11c"
      },
      "source": [
        "a = 3\r\n",
        "b = \"12\"\r\n",
        "c = a * b\r\n",
        "print(c)\r\n",
        "r = \"12\"\r\n",
        "print(type(r))\r\n",
        "\r\n",
        "#int para cambiar el tipo de variable a tipo entero\r\n",
        "s= int(r)\r\n",
        "print(type(s))"
      ],
      "execution_count": 11,
      "outputs": [
        {
          "output_type": "stream",
          "text": [
            "121212\n",
            "<class 'str'>\n",
            "<class 'int'>\n"
          ],
          "name": "stdout"
        }
      ]
    },
    {
      "cell_type": "code",
      "metadata": {
        "colab": {
          "base_uri": "https://localhost:8080/"
        },
        "id": "sGioj1DcAVL8",
        "outputId": "2cfce604-0a49-47df-9721-b4177d66354c"
      },
      "source": [
        "r= \"12\"\r\n",
        "print(type(r))\r\n",
        "r = int(r)\r\n",
        "print(type(r))\r\n",
        "s= r+2\r\n",
        "print(s)"
      ],
      "execution_count": 12,
      "outputs": [
        {
          "output_type": "stream",
          "text": [
            "<class 'str'>\n",
            "<class 'int'>\n",
            "14\n"
          ],
          "name": "stdout"
        }
      ]
    },
    {
      "cell_type": "code",
      "metadata": {
        "colab": {
          "base_uri": "https://localhost:8080/"
        },
        "id": "RamjKX6dA_iD",
        "outputId": "28ce5e9c-4018-49c9-fc25-2c5129e6fc8d"
      },
      "source": [
        "r= 12\r\n",
        "print(type(r))\r\n",
        "r = str(r)\r\n",
        "print(type(r))\r\n",
        "s= \"Numero: \"+ r\r\n",
        "print(s)"
      ],
      "execution_count": 14,
      "outputs": [
        {
          "output_type": "stream",
          "text": [
            "<class 'int'>\n",
            "<class 'str'>\n",
            "Numero: 12\n"
          ],
          "name": "stdout"
        }
      ]
    },
    {
      "cell_type": "code",
      "metadata": {
        "colab": {
          "base_uri": "https://localhost:8080/"
        },
        "id": "Kn59A_JPvzqc",
        "outputId": "5c258293-9d90-43db-c2ea-120bf54490a3"
      },
      "source": [
        "r= \"12.7\"\r\n",
        "print(type(r))\r\n",
        "#float variable tipo flotante usado para decimales\r\n",
        "r = float(r)\r\n",
        "print(type(r))\r\n",
        "s= r+2 \r\n",
        "print(s)"
      ],
      "execution_count": 4,
      "outputs": [
        {
          "output_type": "stream",
          "text": [
            "<class 'str'>\n",
            "<class 'float'>\n",
            "14.7\n"
          ],
          "name": "stdout"
        }
      ]
    },
    {
      "cell_type": "code",
      "metadata": {
        "colab": {
          "base_uri": "https://localhost:8080/"
        },
        "id": "_KXS6m5ey5yt",
        "outputId": "763e7399-b8ba-4b47-da1d-f50c0219aa3e"
      },
      "source": [
        "r= 12.7\r\n",
        "print(type(r))\r\n",
        "r = str(r)\r\n",
        "print(type(r))\r\n",
        "s= \"Numero: \"+ r\r\n",
        "print(s)"
      ],
      "execution_count": 5,
      "outputs": [
        {
          "output_type": "stream",
          "text": [
            "<class 'float'>\n",
            "<class 'str'>\n",
            "Numero: 12.7\n"
          ],
          "name": "stdout"
        }
      ]
    },
    {
      "cell_type": "code",
      "metadata": {
        "colab": {
          "base_uri": "https://localhost:8080/"
        },
        "id": "dFUcpEa92Z_C",
        "outputId": "4131a0b4-c382-420e-a1ed-f8a9d0670b3e"
      },
      "source": [
        "Edad = input(\"Introduce tu edad:  \")\r\n",
        "print(type(Edad))\r\n",
        "num=\"4\"\r\n",
        "num= float (num)\r\n",
        "print(type(num))\r\n",
        "num"
      ],
      "execution_count": 10,
      "outputs": [
        {
          "output_type": "stream",
          "text": [
            "Introduce tu edad:  20\n",
            "<class 'str'>\n",
            "<class 'float'>\n"
          ],
          "name": "stdout"
        },
        {
          "output_type": "execute_result",
          "data": {
            "text/plain": [
              "4.0"
            ]
          },
          "metadata": {
            "tags": []
          },
          "execution_count": 10
        }
      ]
    },
    {
      "cell_type": "code",
      "metadata": {
        "colab": {
          "base_uri": "https://localhost:8080/"
        },
        "id": "YECiyMXm3oLB",
        "outputId": "f5cc0518-277f-42ef-c6b1-d79c6c152b1b"
      },
      "source": [
        "Edad = input(\"Introduce tu edad:  \")\r\n",
        "print(type(Edad))\r\n",
        "Edad_num = float(Edad)\r\n",
        "print(type(Edad_num))"
      ],
      "execution_count": 12,
      "outputs": [
        {
          "output_type": "stream",
          "text": [
            "Introduce tu edad:  20\n",
            "<class 'str'>\n",
            "<class 'float'>\n"
          ],
          "name": "stdout"
        }
      ]
    },
    {
      "cell_type": "code",
      "metadata": {
        "colab": {
          "base_uri": "https://localhost:8080/"
        },
        "id": "AMItFvSp66jE",
        "outputId": "eeb0a83a-db33-4f0a-9148-3c86fa24467c"
      },
      "source": [
        "Edad = float (input(\"Introduce tu edad:  \"))\r\n",
        "print(type(Edad))\r\n",
        "Edad_nueva = Edad*2 -2\r\n",
        "print(Edad_nueva)"
      ],
      "execution_count": 14,
      "outputs": [
        {
          "output_type": "stream",
          "text": [
            "Introduce tu edad:  20\n",
            "<class 'float'>\n",
            "38.0\n"
          ],
          "name": "stdout"
        }
      ]
    }
  ]
}