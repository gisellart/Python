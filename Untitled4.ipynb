{
  "nbformat": 4,
  "nbformat_minor": 0,
  "metadata": {
    "colab": {
      "name": "Untitled4.ipynb",
      "provenance": [],
      "authorship_tag": "ABX9TyNyVaCsFJCIpjpgaWQQO/nI",
      "include_colab_link": true
    },
    "kernelspec": {
      "name": "python3",
      "display_name": "Python 3"
    }
  },
  "cells": [
    {
      "cell_type": "markdown",
      "metadata": {
        "id": "view-in-github",
        "colab_type": "text"
      },
      "source": [
        "<a href=\"https://colab.research.google.com/github/gisellart/Python/blob/main/Untitled4.ipynb\" target=\"_parent\"><img src=\"https://colab.research.google.com/assets/colab-badge.svg\" alt=\"Open In Colab\"/></a>"
      ]
    },
    {
      "cell_type": "markdown",
      "metadata": {
        "id": "fq5OrnxLmMqB"
      },
      "source": [
        "Tarea Dia 3"
      ]
    },
    {
      "cell_type": "code",
      "metadata": {
        "colab": {
          "base_uri": "https://localhost:8080/"
        },
        "id": "LNgsz6eHmPmq",
        "outputId": "938811c1-f4b5-42dc-9998-42402e4f07e6"
      },
      "source": [
        "Lista_pendientes= [{\r\n",
        "    'Nombre' : 'Diseño termico',\r\n",
        "    'Examen' : '3 de marzo',\r\n",
        "    'Tareas' : 'Ejercicios libro',\r\n",
        "    'Horario' : 'Matutino'\r\n",
        "    \r\n",
        "},\r\n",
        "{ 'Nombre' : 'Proceos ii',\r\n",
        "    'Examen' : '15 de marzo',\r\n",
        "    'Tareas' : 'notas de clase',\r\n",
        "    'Horario' : 'Matutino'\r\n",
        "    },\r\n",
        "\r\n",
        "    { 'Nombre' : 'Proceos iii',\r\n",
        "    'Examen' : '30 de marzo',\r\n",
        "    'Tareas' : 'diagrama',\r\n",
        "    'Horario' : 'Matutino'\r\n",
        "    },\r\n",
        "\r\n",
        "    { 'Nombre' : 'Ingles',\r\n",
        "    'Examen' : '18 de marzo',\r\n",
        "    'Tareas' : 'nota de voz',\r\n",
        "    'Horario' : 'Matutino'\r\n",
        "    }\r\n",
        "]\r\n",
        "\r\n",
        "print(Lista_pendientes[3]['Nombre'])\r\n"
      ],
      "execution_count": 4,
      "outputs": [
        {
          "output_type": "stream",
          "text": [
            "Ingles\n"
          ],
          "name": "stdout"
        }
      ]
    }
  ]
}