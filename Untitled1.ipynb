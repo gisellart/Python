{
  "nbformat": 4,
  "nbformat_minor": 0,
  "metadata": {
    "colab": {
      "name": "Untitled1.ipynb",
      "provenance": [],
      "collapsed_sections": [],
      "authorship_tag": "ABX9TyOUcB8SUYs8TIK+ilBbU+fo",
      "include_colab_link": true
    },
    "kernelspec": {
      "name": "python3",
      "display_name": "Python 3"
    }
  },
  "cells": [
    {
      "cell_type": "markdown",
      "metadata": {
        "id": "view-in-github",
        "colab_type": "text"
      },
      "source": [
        "<a href=\"https://colab.research.google.com/github/gisellart/Python/blob/main/Untitled1.ipynb\" target=\"_parent\"><img src=\"https://colab.research.google.com/assets/colab-badge.svg\" alt=\"Open In Colab\"/></a>"
      ]
    },
    {
      "cell_type": "code",
      "metadata": {
        "colab": {
          "base_uri": "https://localhost:8080/"
        },
        "id": "siNy7OeR96Ot",
        "outputId": "8d584877-9294-460b-e17e-8ba9a21ab7a0"
      },
      "source": [
        "#Solicitando al usuario un string\r\n",
        "print(\"¿Cual es tu nombre?\")\r\n",
        "Nombre = input( )\r\n",
        "print(\"¿Cual es tu segundo nombre?\")\r\n",
        "Nombre_2 = input( )\r\n",
        "\r\n",
        "#Solicitand un string al usuario mediante un mensaje \r\n",
        "Apellido = input(\"¿cual es tu apellido? \" )\r\n",
        "Apellido_2 = input(\"¿cual es tu segundo apellido? \" )\r\n",
        "\r\n",
        "M_completo = Nombre + \" \" + Nombre_2+ \" \"+ Apellido+ \" \" + Apellido_2\r\n",
        "print(\"Mi nombre es\", Nombre, Nombre_2, Apellido, Apellido_2)\r\n",
        "print(M_completo)"
      ],
      "execution_count": 8,
      "outputs": [
        {
          "output_type": "stream",
          "text": [
            "¿Cual es tu nombre?\n",
            "Tania\n",
            "¿Cual es tu segundo nombre?\n",
            "Gisell\n",
            "¿cual es tu apellido? Salgado\n",
            "¿cual es tu segundo apellido? Rodriguez\n",
            "Mi nombre es Tania Gisell Salgado Rodriguez\n",
            "Tania Gisell Salgado Rodriguez\n"
          ],
          "name": "stdout"
        }
      ]
    }
  ]
}