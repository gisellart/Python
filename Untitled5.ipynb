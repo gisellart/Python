{
  "nbformat": 4,
  "nbformat_minor": 0,
  "metadata": {
    "colab": {
      "name": "Untitled5.ipynb",
      "provenance": [],
      "authorship_tag": "ABX9TyOo1yUhHZRsNjxCc+xLmvFB",
      "include_colab_link": true
    },
    "kernelspec": {
      "name": "python3",
      "display_name": "Python 3"
    }
  },
  "cells": [
    {
      "cell_type": "markdown",
      "metadata": {
        "id": "view-in-github",
        "colab_type": "text"
      },
      "source": [
        "<a href=\"https://colab.research.google.com/github/gisellart/Python/blob/main/Untitled5.ipynb\" target=\"_parent\"><img src=\"https://colab.research.google.com/assets/colab-badge.svg\" alt=\"Open In Colab\"/></a>"
      ]
    },
    {
      "cell_type": "code",
      "metadata": {
        "id": "U-HmsUk2QPQ2"
      },
      "source": [
        ""
      ],
      "execution_count": null,
      "outputs": []
    },
    {
      "cell_type": "markdown",
      "metadata": {
        "id": "xAyXz5EuQjDF"
      },
      "source": [
        "Operadores"
      ]
    },
    {
      "cell_type": "code",
      "metadata": {
        "colab": {
          "base_uri": "https://localhost:8080/"
        },
        "id": "ZXhN8JHBQlZW",
        "outputId": "24c54518-1577-4c5a-b5f9-83f88f8a55f5"
      },
      "source": [
        "#Operadores con asigancion \r\n",
        "A= 5\r\n",
        "#A = A +3\r\n",
        "print(A)\r\n",
        "\r\n",
        "#Suma en asigmacion \r\n",
        "A += 3 #Equivale a A = A+3\r\n",
        "print(A)\r\n",
        "\r\n",
        "#Resta en asignacion\r\n",
        "A -= 5 # equivale a A= A-2\r\n",
        "print(A)\r\n",
        "\r\n",
        "#Mltiplicacion e asignacion \r\n",
        "\r\n",
        "A *= 2 #Equivale a A= A*2\r\n",
        "print(A)\r\n",
        "\r\n",
        "#Division en asigancion\r\n",
        "\r\n",
        "A /= 2 #Equivale a A = A/4\r\n",
        "print(A)\r\n",
        "\r\n",
        "#potencia en asigancion\r\n",
        "A **= 3 #Equivale a A = A **3\r\n",
        "print(A)\r\n",
        "\r\n",
        "#operador modulo \r\n",
        "# su operador es %\r\n",
        "#Es una division pero en vez de darte el cociente \r\n",
        "#Te da el residuo\r\n",
        "\r\n",
        "B= 10%4\r\n",
        "print(B)\r\n",
        "\r\n",
        "#Modulo en asigancion\r\n",
        "A = 20\r\n",
        "A %= 6  #Equivale a A = A % 6\r\n",
        "print(A)"
      ],
      "execution_count": 14,
      "outputs": [
        {
          "output_type": "stream",
          "text": [
            "5\n",
            "8\n",
            "3\n",
            "6\n",
            "3.0\n",
            "27.0\n",
            "2\n",
            "2\n"
          ],
          "name": "stdout"
        }
      ]
    },
    {
      "cell_type": "code",
      "metadata": {
        "colab": {
          "base_uri": "https://localhost:8080/"
        },
        "id": "GScW5kb2Xn77",
        "outputId": "d6eebf26-d323-4e0f-e31c-2a473ad31614"
      },
      "source": [
        "#opredadores de comparacion\r\n",
        "# Operadores de comparacion\r\n",
        "\r\n",
        "'''\r\n",
        "and, or, not, >, <, ==, >=, <=, !=\r\n",
        "\r\n",
        "1. ()\r\n",
        "2. **\r\n",
        "3. *, /, %, not\r\n",
        "4. +, -, and\r\n",
        "5. >, <, ==, >=, <=, !=, or\r\n",
        "\r\n",
        "\r\n",
        "and: si ambas expresiones tienen el valor True (cierto) da como resultado True\r\n",
        "or: con que mínimo una expresion tenga el valor True (cierto) da como resultado True\r\n",
        "not: cambia el valor de True (cierto) a False (falso) y viceversa \r\n",
        "'''\r\n",
        "\r\n",
        "A= 1\r\n",
        "B= 2\r\n",
        "C= 3\r\n",
        "\r\n",
        "D = not((A > C) or (C<B))\r\n",
        "print (D)\r\n",
        "\r\n",
        "#Operador \"Diferente\" !=\r\n",
        "\r\n",
        "E = A != 1\r\n",
        "print(E)\r\n",
        "\r\n",
        "#Operador \"igualdad\" ==\r\n",
        "F = A == 1\r\n",
        "print(F)"
      ],
      "execution_count": 23,
      "outputs": [
        {
          "output_type": "stream",
          "text": [
            "True\n",
            "False\n",
            "True\n"
          ],
          "name": "stdout"
        }
      ]
    }
  ]
}